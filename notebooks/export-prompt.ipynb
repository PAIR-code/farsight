{
 "cells": [
  {
   "cell_type": "code",
   "execution_count": 2,
   "metadata": {},
   "outputs": [],
   "source": [
    "# Copyright 2023 Google LLC\n",
    "#\n",
    "# Licensed under the Apache License, Version 2.0 (the \"License\");\n",
    "# you may not use this file except in compliance with the License.\n",
    "# You may obtain a copy of the License at\n",
    "#\n",
    "#     https://www.apache.org/licenses/LICENSE-2.0\n",
    "#\n",
    "# Unless required by applicable law or agreed to in writing, software\n",
    "# distributed under the License is distributed on an \"AS IS\" BASIS,\n",
    "# WITHOUT WARRANTIES OR CONDITIONS OF ANY KIND, either express or implied.\n",
    "# See the License for the specific language governing permissions and\n",
    "# limitations under the License.\n",
    "\n",
    "from json import load, dump\n",
    "import google.generativeai as palm\n",
    "\n",
    "api_key = input('PaLM api key:')\n",
    "palm.configure(api_key=api_key)\n",
    "\n",
    "def estimate_token_count(text: str) -> int:\n",
    "    \"\"\"Estimate token count for the given text.\n",
    "\n",
    "    Args:\n",
    "        text (str): Prompt text\n",
    "\n",
    "    Returns:\n",
    "        int: Estimated token count\n",
    "    \"\"\"\n",
    "    chunk_queue = [text]\n",
    "    token_count = 0\n",
    "\n",
    "    while len(chunk_queue) > 0:\n",
    "        chunk = chunk_queue.pop(0)\n",
    "        chunk_token_count = palm.count_message_tokens(messages=chunk)['token_count']\n",
    "        \n",
    "        if chunk_token_count >= 4000:\n",
    "            chunk_queue.append(chunk[:len(chunk) // 2])\n",
    "            chunk_queue.append(chunk[len(chunk) // 2:])\n",
    "        else:\n",
    "            token_count += chunk_token_count\n",
    "            \n",
    "    return token_count"
   ]
  },
  {
   "attachments": {},
   "cell_type": "markdown",
   "metadata": {},
   "source": [
    "## Use Case Prompt"
   ]
  },
  {
   "cell_type": "code",
   "execution_count": 6,
   "metadata": {},
   "outputs": [
    {
     "name": "stdout",
     "output_type": "stream",
     "text": [
      "665\n"
     ]
    }
   ],
   "source": [
    "with open('./use-case.txt', 'r') as fp:\n",
    "    prompt = fp.read()\n",
    "\n",
    "# print(prompt)\n",
    "print(estimate_token_count(prompt))"
   ]
  },
  {
   "cell_type": "code",
   "execution_count": 3,
   "metadata": {},
   "outputs": [],
   "source": [
    "# Save my prompt to typescript\n",
    "prompt_export = prompt + \"functionality:{{functionality}}\\n\"\n",
    "prompt_export +=\"use cases:\"\n",
    "\n",
    "prompt_programs = {\n",
    "    'task': 'generate use cases',\n",
    "    'prompt': prompt_export,\n",
    "    'variables': ['functionality'],\n",
    "    'temperature': 0.1\n",
    "}\n",
    "\n",
    "dump(prompt_programs, open('../src/models/prompt-use-case.json', 'w'))"
   ]
  },
  {
   "attachments": {},
   "cell_type": "markdown",
   "metadata": {},
   "source": [
    "## Stakeholder Prompt"
   ]
  },
  {
   "cell_type": "code",
   "execution_count": 4,
   "metadata": {},
   "outputs": [
    {
     "name": "stdout",
     "output_type": "stream",
     "text": [
      "2037\n"
     ]
    }
   ],
   "source": [
    "with open('./stakeholder.txt', 'r') as fp:\n",
    "    prompt = fp.read()\n",
    "\n",
    "# print(prompt)\n",
    "print(estimate_token_count(prompt))"
   ]
  },
  {
   "cell_type": "code",
   "execution_count": 5,
   "metadata": {},
   "outputs": [],
   "source": [
    "# Save my prompt to typescript\n",
    "prompt_export = prompt + \"\\ndescription: <functionality>{{functionality}}</functionality>\\n\"\n",
    "prompt_export += '<usecase>{{usecase}}</usecase>\\n'\n",
    "prompt_export += \"stakeholders: \"\n",
    "\n",
    "prompt_programs = {\n",
    "    'task': 'generate stakeholders',\n",
    "    'prompt': prompt_export,\n",
    "    'variables': ['functionality', 'usecase'],\n",
    "    'temperature': 0.1,\n",
    "    'stopSequences': ['</stakeholders>']\n",
    "}\n",
    "\n",
    "dump(prompt_programs, open('../src/models/prompt-stakeholder.json', 'w'))"
   ]
  },
  {
   "cell_type": "code",
   "execution_count": 4,
   "metadata": {},
   "outputs": [],
   "source": [
    "# import re\n",
    "# import subprocess\n",
    "\n",
    "# def transform_old_stakeholder(old_text):\n",
    "#     lines = old_text.split('\\n')\n",
    "#     new_string = ''\n",
    "#     for line in lines:\n",
    "#         name = ''\n",
    "#         category = ''\n",
    "#         relevance = 'relevant'\n",
    "#         if '<direct>' in line:\n",
    "#             category = 'direct'\n",
    "#             name = re.sub(r'<direct>(.*)</direct>', r'\\1', line)\n",
    "#         elif '<indirect>' in line:\n",
    "#             category = 'indirect'\n",
    "#             name = re.sub(r'<indirect>(.*)</indirect>', r'\\1', line)\n",
    "#         else:\n",
    "#             continue\n",
    "        \n",
    "#         new_string += f'''<stakeholder type=\"{category}\" relevance=\"{relevance}\">{name}</stakeholder>\\n'''\n",
    "\n",
    "#     subprocess.run(['echo', '-n', new_string], capture_output=True, text=True)\n",
    "#     subprocess.run(['pbcopy'], input=new_string, capture_output=True, text=True)"
   ]
  },
  {
   "cell_type": "code",
   "execution_count": 40,
   "metadata": {},
   "outputs": [],
   "source": [
    "# org_text = '''<stakeholders>\n",
    "# <direct>Doctor</direct>\n",
    "# <direct>Patient</direct>\n",
    "# <direct>Pharmacy</direct>\n",
    "# <direct>Company of the AI product</direct>\n",
    "# <direct>Hospital</direct>\n",
    "# <indirect>Doctors who do not use this AI product</indirect>\n",
    "# <indirect>Insurance companies</indirect>\n",
    "# <indirect>Medical research institutions</indirect>\n",
    "# <indirect>Family and friends of the patient</indirect>\n",
    "# <indirect>Healthcare policymaker</indirect>\n",
    "# </stakeholders>\n",
    "# '''\n",
    "\n",
    "# transform_old_stakeholder(org_text)"
   ]
  },
  {
   "attachments": {},
   "cell_type": "markdown",
   "metadata": {},
   "source": [
    "## Harm Prompt"
   ]
  },
  {
   "cell_type": "code",
   "execution_count": 7,
   "metadata": {},
   "outputs": [
    {
     "name": "stdout",
     "output_type": "stream",
     "text": [
      "3156\n"
     ]
    }
   ],
   "source": [
    "with open('./harm.txt', 'r') as fp:\n",
    "    prompt = fp.read()\n",
    "\n",
    "# print(prompt)\n",
    "print(estimate_token_count(prompt))"
   ]
  },
  {
   "cell_type": "code",
   "execution_count": 8,
   "metadata": {},
   "outputs": [],
   "source": [
    "# Save my prompt to typescript\n",
    "prompt_export = prompt + \"\\nscenario: <functionality>{{functionality}}</functionality>\\n\"\n",
    "prompt_export += '<usecase>{{usecase}}</usecase>\\n'\n",
    "prompt_export += '<stakeholder>{{stakeholder}}</stakeholder>\\n'\n",
    "prompt_export += \"harms: \"\n",
    "\n",
    "prompt_programs = {\n",
    "    'task': 'generate stakeholders',\n",
    "    'prompt': prompt_export,\n",
    "    'variables': ['functionality', 'usecase', 'stakeholder'],\n",
    "    'temperature': 0.1\n",
    "}\n",
    "\n",
    "dump(prompt_programs, open('../src/models/prompt-harm.json', 'w'))"
   ]
  },
  {
   "cell_type": "markdown",
   "metadata": {},
   "source": [
    "## Export Prompt Pairs as CSV"
   ]
  },
  {
   "cell_type": "markdown",
   "metadata": {},
   "source": [
    "### Stakeholders"
   ]
  },
  {
   "cell_type": "code",
   "execution_count": 1,
   "metadata": {},
   "outputs": [],
   "source": [
    "import numpy as np\n",
    "import pandas as pd\n",
    "\n",
    "with open('./stakeholder.txt', 'r') as fp:\n",
    "    prompt = fp.readlines()\n",
    "\n",
    "\n",
    "descriptions = []\n",
    "stakeholders = []\n",
    "\n",
    "cur_description = ''\n",
    "cur_stakeholder = ''\n",
    "\n",
    "for l in prompt:\n",
    "    if 'description:' in l:\n",
    "        if cur_stakeholder != '':\n",
    "            stakeholders.append(cur_stakeholder)\n",
    "            cur_stakeholder = ''\n",
    "            \n",
    "        cur_description += l\n",
    "    \n",
    "    elif 'stakeholders:' in l:\n",
    "        if cur_description != '':\n",
    "            descriptions.append(cur_description)\n",
    "            cur_description = ''\n",
    "            \n",
    "        cur_stakeholder += l\n",
    "        \n",
    "    else:\n",
    "        if cur_description != '':\n",
    "            cur_description += l\n",
    "            \n",
    "        if cur_stakeholder != '':\n",
    "            cur_stakeholder += l\n",
    "        \n",
    "if cur_stakeholder != '':\n",
    "    stakeholders.append(cur_stakeholder)\n",
    "    \n",
    "if cur_description != '':\n",
    "    descriptions.append(cur_description)"
   ]
  },
  {
   "cell_type": "code",
   "execution_count": 2,
   "metadata": {},
   "outputs": [],
   "source": [
    "df = pd.DataFrame({'description': descriptions, 'stakeholder': stakeholders})\n",
    "df.to_csv('stakeholders.csv', index=False)"
   ]
  },
  {
   "cell_type": "markdown",
   "metadata": {},
   "source": [
    "### Harms"
   ]
  },
  {
   "cell_type": "code",
   "execution_count": 28,
   "metadata": {},
   "outputs": [],
   "source": [
    "with open('./harm.txt', 'r') as fp:\n",
    "    prompt = fp.readlines()"
   ]
  },
  {
   "cell_type": "code",
   "execution_count": 29,
   "metadata": {},
   "outputs": [],
   "source": [
    "descriptions = []\n",
    "stakeholders = []\n",
    "\n",
    "cur_description = ''\n",
    "cur_stakeholder = ''\n",
    "\n",
    "for l in prompt:\n",
    "    if 'scenario:' in l:\n",
    "        if cur_stakeholder != '':\n",
    "            stakeholders.append(cur_stakeholder)\n",
    "            cur_stakeholder = ''\n",
    "            \n",
    "        cur_description += l\n",
    "    \n",
    "    elif 'harms:' in l:\n",
    "        if cur_description != '':\n",
    "            descriptions.append(cur_description)\n",
    "            cur_description = ''\n",
    "            \n",
    "        cur_stakeholder += l\n",
    "        \n",
    "    else:\n",
    "        if cur_description != '':\n",
    "            cur_description += l\n",
    "            \n",
    "        if cur_stakeholder != '':\n",
    "            cur_stakeholder += l\n",
    "        \n",
    "if cur_stakeholder != '':\n",
    "    stakeholders.append(cur_stakeholder)\n",
    "    \n",
    "if cur_description != '':\n",
    "    descriptions.append(cur_description)"
   ]
  },
  {
   "cell_type": "code",
   "execution_count": 17,
   "metadata": {},
   "outputs": [],
   "source": [
    "df = pd.DataFrame({'description': descriptions, 'harm': stakeholders})\n",
    "df.to_csv('harms.csv', index=False)"
   ]
  },
  {
   "cell_type": "markdown",
   "metadata": {},
   "source": [
    "### Use Cases"
   ]
  },
  {
   "cell_type": "code",
   "execution_count": 23,
   "metadata": {},
   "outputs": [
    {
     "name": "stdout",
     "output_type": "stream",
     "text": [
      "use cases: <intended>Software developers use it to quickly search library documentation.</intended>\n",
      "\n"
     ]
    }
   ],
   "source": [
    "with open('./use-case.txt', 'r') as fp:\n",
    "    prompt = fp.readlines()\n",
    "    \n",
    "print(prompt[2])"
   ]
  },
  {
   "cell_type": "code",
   "execution_count": 25,
   "metadata": {},
   "outputs": [],
   "source": [
    "descriptions = []\n",
    "stakeholders = []\n",
    "\n",
    "cur_description = ''\n",
    "cur_stakeholder = ''\n",
    "\n",
    "for l in prompt:\n",
    "    if 'functionality:' in l:\n",
    "        if cur_stakeholder != '':\n",
    "            stakeholders.append(cur_stakeholder)\n",
    "            cur_stakeholder = ''\n",
    "            \n",
    "        cur_description += l\n",
    "    \n",
    "    elif 'use cases:' in l:\n",
    "        if cur_description != '':\n",
    "            descriptions.append(cur_description)\n",
    "            cur_description = ''\n",
    "            \n",
    "        cur_stakeholder += l\n",
    "        \n",
    "    else:\n",
    "        if cur_description != '':\n",
    "            cur_description += l\n",
    "            \n",
    "        if cur_stakeholder != '':\n",
    "            cur_stakeholder += l\n",
    "        \n",
    "if cur_stakeholder != '':\n",
    "    stakeholders.append(cur_stakeholder)\n",
    "    \n",
    "if cur_description != '':\n",
    "    descriptions.append(cur_description)"
   ]
  },
  {
   "cell_type": "code",
   "execution_count": 27,
   "metadata": {},
   "outputs": [],
   "source": [
    "df = pd.DataFrame({'functionality': descriptions, 'use cases': stakeholders})\n",
    "df.to_csv('use-case.csv', index=False)"
   ]
  },
  {
   "cell_type": "markdown",
   "metadata": {},
   "source": [
    "### Functionality"
   ]
  },
  {
   "cell_type": "code",
   "execution_count": 33,
   "metadata": {},
   "outputs": [],
   "source": [
    "from json import load, dump\n",
    "\n",
    "summary_prompt = load(open('../src/models/prompt-summary.json', 'r'))\n",
    "prompt = summary_prompt['prompt'].split('\\n')"
   ]
  },
  {
   "cell_type": "code",
   "execution_count": 41,
   "metadata": {},
   "outputs": [],
   "source": [
    "descriptions = []\n",
    "stakeholders = []\n",
    "\n",
    "cur_description = ''\n",
    "cur_stakeholder = ''\n",
    "\n",
    "for l in prompt:\n",
    "    if l[:13] == '<instruction>':\n",
    "        if cur_stakeholder != '':\n",
    "            stakeholders.append(cur_stakeholder)\n",
    "            cur_stakeholder = ''\n",
    "            \n",
    "        cur_description += l\n",
    "    \n",
    "    elif '<summary>' in l:\n",
    "        if cur_description != '':\n",
    "            descriptions.append(cur_description)\n",
    "            cur_description = ''\n",
    "            \n",
    "        cur_stakeholder += l\n",
    "        \n",
    "    else:\n",
    "        if cur_description != '':\n",
    "            cur_description += l\n",
    "            \n",
    "        if cur_stakeholder != '':\n",
    "            cur_stakeholder += l\n",
    "        \n",
    "if cur_stakeholder != '':\n",
    "    stakeholders.append(cur_stakeholder)\n",
    "    \n",
    "if cur_description != '':\n",
    "    descriptions.append(cur_description)"
   ]
  },
  {
   "cell_type": "code",
   "execution_count": 43,
   "metadata": {},
   "outputs": [],
   "source": [
    "df = pd.DataFrame({'prompt': descriptions, 'summary': stakeholders})\n",
    "df.to_csv('prompt-summary.csv', index=False)"
   ]
  },
  {
   "cell_type": "markdown",
   "metadata": {},
   "source": [
    "### Random Prompts"
   ]
  },
  {
   "cell_type": "code",
   "execution_count": 46,
   "metadata": {},
   "outputs": [],
   "source": [
    "prompts = load(open('../public/data/random-prompts.json', 'r'))\n",
    "df = pd.DataFrame({'prompt': prompts})\n",
    "df.to_csv('prompts.csv', index=False)"
   ]
  }
 ],
 "metadata": {
  "kernelspec": {
   "display_name": "prompt",
   "language": "python",
   "name": "python3"
  },
  "language_info": {
   "codemirror_mode": {
    "name": "ipython",
    "version": 3
   },
   "file_extension": ".py",
   "mimetype": "text/x-python",
   "name": "python",
   "nbconvert_exporter": "python",
   "pygments_lexer": "ipython3",
   "version": "3.9.13"
  },
  "orig_nbformat": 4
 },
 "nbformat": 4,
 "nbformat_minor": 2
}
